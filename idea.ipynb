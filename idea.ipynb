{
 "cells": [
  {
   "cell_type": "code",
   "execution_count": 10,
   "metadata": {},
   "outputs": [],
   "source": [
    "import omise\n",
    "import base64\n",
    "import requests\n",
    "from IPython.display import Image"
   ]
  },
  {
   "cell_type": "code",
   "execution_count": 11,
   "metadata": {},
   "outputs": [],
   "source": [
    "omise.api_secret = \"skey_test_5zv9s0ermj8n9neahb1\""
   ]
  },
  {
   "cell_type": "code",
   "execution_count": 12,
   "metadata": {},
   "outputs": [],
   "source": [
    "amount = 20\n",
    "promptpay_id = \"0830282014\"  # PromptPay ID (e.g., phone number)"
   ]
  },
  {
   "cell_type": "code",
   "execution_count": 13,
   "metadata": {},
   "outputs": [],
   "source": [
    "charge = omise.Charge.create(\n",
    "    amount=int(amount * 100),  # Amount in satang\n",
    "    currency=\"thb\",\n",
    "    source={\"type\": \"promptpay\", \"promptpay_id\": promptpay_id},\n",
    ")"
   ]
  },
  {
   "cell_type": "code",
   "execution_count": 14,
   "metadata": {},
   "outputs": [],
   "source": [
    "# Get the QR code image URL\n",
    "qr_code_url = charge.source.scannable_code.image.download_uri"
   ]
  },
  {
   "cell_type": "code",
   "execution_count": null,
   "metadata": {},
   "outputs": [],
   "source": []
  },
  {
   "cell_type": "code",
   "execution_count": 16,
   "metadata": {},
   "outputs": [
    {
     "name": "stdout",
     "output_type": "stream",
     "text": [
      "Charge ID: chrg_test_5zw05xlndabucbnmzfy\n",
      "Amount: 20.0\n",
      "Currency: THB\n",
      "Status: pending\n",
      "QR Code URL: https://api.omise.co/charges/chrg_test_5zw05xlndabucbnmzfy/documents/docu_test_5zw05xnhuj5nnsa7t1c/downloads/867C7EECBF3148F5\n"
     ]
    }
   ],
   "source": [
    "print(\"Charge ID:\", charge.id)\n",
    "print(\"Amount:\", charge.amount / 100)\n",
    "print(\"Currency:\", charge.currency)\n",
    "print(\"Status:\", charge.status)\n",
    "print(\"QR Code URL:\", qr_code_url)"
   ]
  }
 ],
 "metadata": {
  "kernelspec": {
   "display_name": "Python 3",
   "language": "python",
   "name": "python3"
  },
  "language_info": {
   "codemirror_mode": {
    "name": "ipython",
    "version": 3
   },
   "file_extension": ".py",
   "mimetype": "text/x-python",
   "name": "python",
   "nbconvert_exporter": "python",
   "pygments_lexer": "ipython3",
   "version": "3.12.3"
  }
 },
 "nbformat": 4,
 "nbformat_minor": 2
}
